{
 "cells": [
  {
   "cell_type": "code",
   "execution_count": null,
   "metadata": {
    "vscode": {
     "languageId": "plaintext"
    }
   },
   "outputs": [],
   "source": [
    "from pydub import AudioSegment\n",
    "\n",
    "def divide_audio(dir, num):\n",
    "   file_num = 1\n",
    "   for i in range(1, num+1):\n",
    "      audio = AudioSegment.from_file(f'{dir}/{i}.mp3', format=\"mp3\")\n",
    "      length_minutes = int(audio.duration_seconds // 60)\n",
    "      j = 0\n",
    "      for _ in range(length_minutes):\n",
    "         excerpt = audio[j*1000:(j+60)*1000]\n",
    "         excerpt.export(f'{dir}_divide/{file_num}.mp3', format=\"mp3\")\n",
    "         j += 60\n",
    "         file_num += 1\n",
    "\n",
    "divide_audio('arashi', 64)\n",
    "divide_audio('hsj', 59)"
   ]
  }
 ],
 "metadata": {
  "language_info": {
   "name": "python"
  }
 },
 "nbformat": 4,
 "nbformat_minor": 2
}
