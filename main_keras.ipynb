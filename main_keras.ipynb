{
 "cells": [
  {
   "cell_type": "code",
   "execution_count": 32,
   "metadata": {},
   "outputs": [
    {
     "ename": "FileNotFoundError",
     "evalue": "[Errno 2] No such file or directory: 'hsj/60.mp3'",
     "output_type": "error",
     "traceback": [
      "\u001b[0;31m---------------------------------------------------------------------------\u001b[0m",
      "\u001b[0;31mFileNotFoundError\u001b[0m                         Traceback (most recent call last)",
      "Cell \u001b[0;32mIn[32], line 16\u001b[0m\n\u001b[1;32m     13\u001b[0m          file_num \u001b[38;5;241m+\u001b[39m\u001b[38;5;241m=\u001b[39m \u001b[38;5;241m1\u001b[39m\n\u001b[1;32m     15\u001b[0m \u001b[38;5;66;03m# divide_audio('arashi')\u001b[39;00m\n\u001b[0;32m---> 16\u001b[0m \u001b[43mdivide_audio\u001b[49m\u001b[43m(\u001b[49m\u001b[38;5;124;43m'\u001b[39;49m\u001b[38;5;124;43mhsj\u001b[39;49m\u001b[38;5;124;43m'\u001b[39;49m\u001b[43m)\u001b[49m\n",
      "Cell \u001b[0;32mIn[32], line 6\u001b[0m, in \u001b[0;36mdivide_audio\u001b[0;34m(dir)\u001b[0m\n\u001b[1;32m      4\u001b[0m file_num \u001b[38;5;241m=\u001b[39m \u001b[38;5;241m1\u001b[39m\n\u001b[1;32m      5\u001b[0m \u001b[38;5;28;01mfor\u001b[39;00m i \u001b[38;5;129;01min\u001b[39;00m \u001b[38;5;28mrange\u001b[39m(\u001b[38;5;241m1\u001b[39m, \u001b[38;5;241m65\u001b[39m):\n\u001b[0;32m----> 6\u001b[0m    audio \u001b[38;5;241m=\u001b[39m \u001b[43mAudioSegment\u001b[49m\u001b[38;5;241;43m.\u001b[39;49m\u001b[43mfrom_file\u001b[49m\u001b[43m(\u001b[49m\u001b[38;5;124;43mf\u001b[39;49m\u001b[38;5;124;43m'\u001b[39;49m\u001b[38;5;132;43;01m{\u001b[39;49;00m\u001b[38;5;28;43mdir\u001b[39;49m\u001b[38;5;132;43;01m}\u001b[39;49;00m\u001b[38;5;124;43m/\u001b[39;49m\u001b[38;5;132;43;01m{\u001b[39;49;00m\u001b[43mi\u001b[49m\u001b[38;5;132;43;01m}\u001b[39;49;00m\u001b[38;5;124;43m.mp3\u001b[39;49m\u001b[38;5;124;43m'\u001b[39;49m\u001b[43m,\u001b[49m\u001b[43m \u001b[49m\u001b[38;5;28;43mformat\u001b[39;49m\u001b[38;5;241;43m=\u001b[39;49m\u001b[38;5;124;43m\"\u001b[39;49m\u001b[38;5;124;43mmp3\u001b[39;49m\u001b[38;5;124;43m\"\u001b[39;49m\u001b[43m)\u001b[49m\n\u001b[1;32m      7\u001b[0m    length_minutes \u001b[38;5;241m=\u001b[39m \u001b[38;5;28mint\u001b[39m(audio\u001b[38;5;241m.\u001b[39mduration_seconds \u001b[38;5;241m/\u001b[39m\u001b[38;5;241m/\u001b[39m \u001b[38;5;241m60\u001b[39m)\n\u001b[1;32m      8\u001b[0m    j \u001b[38;5;241m=\u001b[39m \u001b[38;5;241m0\u001b[39m\n",
      "File \u001b[0;32m~/.local/lib/python3.10/site-packages/pydub/audio_segment.py:651\u001b[0m, in \u001b[0;36mAudioSegment.from_file\u001b[0;34m(cls, file, format, codec, parameters, start_second, duration, **kwargs)\u001b[0m\n\u001b[1;32m    649\u001b[0m \u001b[38;5;28;01mexcept\u001b[39;00m \u001b[38;5;167;01mTypeError\u001b[39;00m:\n\u001b[1;32m    650\u001b[0m     filename \u001b[38;5;241m=\u001b[39m \u001b[38;5;28;01mNone\u001b[39;00m\n\u001b[0;32m--> 651\u001b[0m file, close_file \u001b[38;5;241m=\u001b[39m \u001b[43m_fd_or_path_or_tempfile\u001b[49m\u001b[43m(\u001b[49m\u001b[43mfile\u001b[49m\u001b[43m,\u001b[49m\u001b[43m \u001b[49m\u001b[38;5;124;43m'\u001b[39;49m\u001b[38;5;124;43mrb\u001b[39;49m\u001b[38;5;124;43m'\u001b[39;49m\u001b[43m,\u001b[49m\u001b[43m \u001b[49m\u001b[43mtempfile\u001b[49m\u001b[38;5;241;43m=\u001b[39;49m\u001b[38;5;28;43;01mFalse\u001b[39;49;00m\u001b[43m)\u001b[49m\n\u001b[1;32m    653\u001b[0m \u001b[38;5;28;01mif\u001b[39;00m \u001b[38;5;28mformat\u001b[39m:\n\u001b[1;32m    654\u001b[0m     \u001b[38;5;28mformat\u001b[39m \u001b[38;5;241m=\u001b[39m \u001b[38;5;28mformat\u001b[39m\u001b[38;5;241m.\u001b[39mlower()\n",
      "File \u001b[0;32m~/.local/lib/python3.10/site-packages/pydub/utils.py:60\u001b[0m, in \u001b[0;36m_fd_or_path_or_tempfile\u001b[0;34m(fd, mode, tempfile)\u001b[0m\n\u001b[1;32m     57\u001b[0m     close_fd \u001b[38;5;241m=\u001b[39m \u001b[38;5;28;01mTrue\u001b[39;00m\n\u001b[1;32m     59\u001b[0m \u001b[38;5;28;01mif\u001b[39;00m \u001b[38;5;28misinstance\u001b[39m(fd, basestring):\n\u001b[0;32m---> 60\u001b[0m     fd \u001b[38;5;241m=\u001b[39m \u001b[38;5;28;43mopen\u001b[39;49m\u001b[43m(\u001b[49m\u001b[43mfd\u001b[49m\u001b[43m,\u001b[49m\u001b[43m \u001b[49m\u001b[43mmode\u001b[49m\u001b[38;5;241;43m=\u001b[39;49m\u001b[43mmode\u001b[49m\u001b[43m)\u001b[49m\n\u001b[1;32m     61\u001b[0m     close_fd \u001b[38;5;241m=\u001b[39m \u001b[38;5;28;01mTrue\u001b[39;00m\n\u001b[1;32m     63\u001b[0m \u001b[38;5;28;01mtry\u001b[39;00m:\n",
      "\u001b[0;31mFileNotFoundError\u001b[0m: [Errno 2] No such file or directory: 'hsj/60.mp3'"
     ]
    }
   ],
   "source": [
    "from pydub import AudioSegment\n",
    "\n",
    "def divide_audio(dir, num):\n",
    "   file_num = 1\n",
    "   for i in range(1, num+1):\n",
    "      audio = AudioSegment.from_file(f'{dir}/{i}.mp3', format=\"mp3\")\n",
    "      length_minutes = int(audio.duration_seconds // 60)\n",
    "      j = 0\n",
    "      for _ in range(length_minutes):\n",
    "         excerpt = audio[j*1000:(j+60)*1000]\n",
    "         excerpt.export(f'{dir}_divide/{file_num}.mp3', format=\"mp3\")\n",
    "         j += 60\n",
    "         file_num += 1\n",
    "\n",
    "divide_audio('arashi', 64)\n",
    "divide_audio('hsj', 59)"
   ]
  },
  {
   "cell_type": "code",
   "execution_count": 87,
   "metadata": {},
   "outputs": [],
   "source": [
    "import librosa\n",
    "import numpy as np\n",
    "from tensorflow.keras.utils import to_categorical\n",
    "\n",
    "X_train = []\n",
    "y_train = []\n",
    "X_test = []\n",
    "y_test = []\n",
    "for i in range(1, 259):\n",
    "    y, sr = librosa.load(f'arashi_divide/{i}.mp3')\n",
    "    S = librosa.feature.melspectrogram(y=y, sr=sr, n_mels=128, fmax=8000)\n",
    "    S_db = librosa.feature.mfcc(S=librosa.power_to_db(S))\n",
    "    data = np.asarray(S_db)\n",
    "    if i <= 200:\n",
    "        X_train.append(data)\n",
    "        y_train.append(0)\n",
    "    else:\n",
    "        X_test.append(data)\n",
    "        y_test.append(1)\n",
    "for i in range(1, 217):\n",
    "    y, sr = librosa.load(f'hsj_divide/{i}.mp3')\n",
    "    S = librosa.feature.melspectrogram(y=y, sr=sr, n_mels=128, fmax=8000)\n",
    "    S_db = librosa.feature.mfcc(S=librosa.power_to_db(S))\n",
    "    data = np.asarray(S_db)\n",
    "    if i <= 174:\n",
    "        X_train.append(data)\n",
    "        y_train.append(1)\n",
    "    else:\n",
    "        X_test.append(data)\n",
    "        y_test.append(1)\n",
    "\n",
    "X_train = np.array(X_train)\n",
    "y_train = to_categorical(y_train, 2)\n",
    "X_test = np.array(X_test)\n",
    "y_test = to_categorical(y_test, 2)"
   ]
  },
  {
   "cell_type": "code",
   "execution_count": 66,
   "metadata": {},
   "outputs": [
    {
     "name": "stdout",
     "output_type": "stream",
     "text": [
      "(474, 20, 2584)\n",
      "(474,)\n"
     ]
    }
   ],
   "source": []
  },
  {
   "cell_type": "code",
   "execution_count": 67,
   "metadata": {},
   "outputs": [
    {
     "name": "stdout",
     "output_type": "stream",
     "text": [
      "2.5.1+cu118\n",
      "True\n"
     ]
    },
    {
     "data": {
      "text/plain": [
       "<torch._C.Generator at 0x7f5475674390>"
      ]
     },
     "execution_count": 67,
     "metadata": {},
     "output_type": "execute_result"
    }
   ],
   "source": [
    "import torch\n",
    "\n",
    "print(torch.__version__)\n",
    "print(torch.cuda.is_available())\n",
    "torch.manual_seed(0)"
   ]
  },
  {
   "cell_type": "code",
   "execution_count": 75,
   "metadata": {},
   "outputs": [
    {
     "name": "stdout",
     "output_type": "stream",
     "text": [
      "(20, 2584)\n",
      "(2584, 21)\n",
      "[[-495.69168091    0.            0.            0.            0.\n",
      "     0.            0.            0.            0.            0.\n",
      "     0.            0.            0.            0.            0.\n",
      "     0.            0.            0.            0.            0.\n",
      "     0.        ]\n",
      " [-495.69168091    0.            0.            0.            0.\n",
      "     0.            0.            0.            0.            0.\n",
      "     0.            0.            0.            0.            0.\n",
      "     0.            0.            0.            0.            0.\n",
      "     0.        ]\n",
      " [-495.69168091    0.            0.            0.            0.\n",
      "     0.            0.            0.            0.            0.\n",
      "     0.            0.            0.            0.            0.\n",
      "     0.            0.            0.            0.            0.\n",
      "     0.        ]\n",
      " [-495.69168091    0.            0.            0.            0.\n",
      "     0.            0.            0.            0.            0.\n",
      "     0.            0.            0.            0.            0.\n",
      "     0.            0.            0.            0.            0.\n",
      "     0.        ]\n",
      " [-495.69168091    0.            0.            0.            0.\n",
      "     0.            0.            0.            0.            0.\n",
      "     0.            0.            0.            0.            0.\n",
      "     0.            0.            0.            0.            0.\n",
      "     0.        ]]\n"
     ]
    }
   ],
   "source": [
    "y, sr = librosa.load(f'arashi_divide/1.mp3')\n",
    "S = librosa.feature.melspectrogram(y=y, sr=sr, n_mels=128, fmax=8000)\n",
    "S_db = librosa.feature.mfcc(S=librosa.power_to_db(S))\n",
    "print(S_db.shape)\n",
    "\n",
    "labels = np.full((S_db.shape[1], 1), 0)  # (n_frames, 1)\n",
    "\n",
    "# S_db とラベルを連結する\n",
    "S_db_with_labels = np.concatenate((S_db.T, labels), axis=1)  # 転置して、行にラベルを追加\n",
    "\n",
    "# 結果の確認\n",
    "print(S_db_with_labels.shape)  # (n_frames, n_mfcc + 1)\n",
    "print(S_db_with_labels[:5])    # 最初の5フレームを表示"
   ]
  },
  {
   "cell_type": "code",
   "execution_count": null,
   "metadata": {},
   "outputs": [],
   "source": []
  },
  {
   "cell_type": "code",
   "execution_count": 86,
   "metadata": {},
   "outputs": [
    {
     "ename": "AttributeError",
     "evalue": "'DataLoader' object has no attribute 'shape'",
     "output_type": "error",
     "traceback": [
      "\u001b[0;31m---------------------------------------------------------------------------\u001b[0m",
      "\u001b[0;31mAttributeError\u001b[0m                            Traceback (most recent call last)",
      "Cell \u001b[0;32mIn[86], line 1\u001b[0m\n\u001b[0;32m----> 1\u001b[0m \u001b[43mtrain_loader\u001b[49m\u001b[38;5;241;43m.\u001b[39;49m\u001b[43mshape\u001b[49m\n",
      "\u001b[0;31mAttributeError\u001b[0m: 'DataLoader' object has no attribute 'shape'"
     ]
    }
   ],
   "source": []
  },
  {
   "cell_type": "code",
   "execution_count": null,
   "metadata": {},
   "outputs": [],
   "source": []
  }
 ],
 "metadata": {
  "kernelspec": {
   "display_name": "Python 3",
   "language": "python",
   "name": "python3"
  },
  "language_info": {
   "codemirror_mode": {
    "name": "ipython",
    "version": 3
   },
   "file_extension": ".py",
   "mimetype": "text/x-python",
   "name": "python",
   "nbconvert_exporter": "python",
   "pygments_lexer": "ipython3",
   "version": "3.10.12"
  }
 },
 "nbformat": 4,
 "nbformat_minor": 2
}
